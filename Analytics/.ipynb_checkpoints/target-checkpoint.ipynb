{
 "cells": [
  {
   "cell_type": "code",
   "execution_count": 1,
   "metadata": {
    "collapsed": false
   },
   "outputs": [
    {
     "name": "stdout",
     "output_type": "stream",
     "text": [
      "['not', 'like']\n"
     ]
    }
   ],
   "source": [
    "import couchdb\n",
    "\n",
    "import create_sentiment\n",
    "import preprocess\n",
    "import load_dict\n",
    "from sklearn.feature_extraction.text import CountVectorizer\n",
    "from collections import Counter\n",
    "import operator\n",
    "from nltk.corpus import stopwords\n",
    "import nltk\n",
    "import json\n",
    "import string\n",
    "import os\n",
    "import sys\n",
    "import gen_set\n",
    "import csv\n",
    "import numpy as np\n",
    "import spell_checker\n",
    "import datetime\n",
    "import pickle\n",
    "from couchdb.mapping import Document, TextField, IntegerField, DateTimeField, BooleanField\n",
    "from data_obj import TweetData\n",
    "import configparser\n",
    "from lga import LGA\n",
    "import socket\n",
    "import functools\n",
    "import random\n",
    "\n",
    "\n",
    "\n",
    "AFINN_FILE = 'AFINN-111.txt'\n",
    "EMOJI_FILE = 'emojis.txt'\n",
    "MING_POS_FILE = 'positive-words.txt'\n",
    "MING_NEG_FILE = 'negative-words.txt'\n",
    "WORDS_FILE = 'words_new.txt'\n",
    "DICT_DIR = './Dict'\n",
    "NLTK_ENGLISH = 'english'\n",
    "neg_list = load_dict.load_negation_list()\n",
    "negation_list = neg_list\n",
    "afinn_dict = load_dict.load_afinn(DICT_DIR, AFINN_FILE)\n",
    "emojis = load_dict.load_emoji(DICT_DIR, EMOJI_FILE)\n",
    "pos_set, neg_set = load_dict.load_minging_dict(DICT_DIR, MING_POS_FILE, \n",
    "                                                MING_NEG_FILE)\n",
    "WORDS = Counter(spell_checker.words(os.path.join(DICT_DIR, WORDS_FILE)))\n",
    "count_all = Counter()\n",
    "\n",
    "punctuation = list(string.punctuation)\n",
    "stop = ['i', 'me', 'my', 'myself', 'we', 'our', 'ours', 'ourselves', 'you', 'your', 'yours', 'yourself', 'yourselves', 'he', 'him', 'his', 'himself', 'she', 'her', 'hers', 'herself', 'it', 'its', 'itself', 'they', 'them', 'their', 'theirs', 'themselves', 'what', 'which', 'who', 'whom', 'this', 'that', 'these', 'those', 'am', 'is', 'are', 'was', 'were', 'be', 'been', 'being', 'have', 'has', 'had', 'having', 'do', 'does', 'did', 'doing', 'a', 'an', 'the', 'and', 'but', 'if', 'or', 'because', 'as', 'until', 'while', 'of', 'at', 'by', 'for', 'with', 'about', 'between', 'into', 'through', 'during', 'before', 'after', 'above', 'below', 'to', 'from', 'up', 'down', 'in', 'out', 'on', 'off', 'over', 'under', 'again', 'further', 'then', 'once', 'here', 'there', 'when', 'where', 'why', 'how', 'all', 'any', 'both', 'each', 'so', 'than']\n",
    "\n",
    "text = \"i do not like you\"\n",
    "filter_words = preprocess.process_tokens(text, stop, punctuation, emojis, WORDS, neg_list)\n",
    "print(filter_words)\n",
    "no_spell = preprocess.process_tokens_no_spell(text, stop, punctuation, emojis)\n",
    "\n",
    "count_positive = 0\n",
    "count_negative = 0"
   ]
  },
  {
   "cell_type": "code",
   "execution_count": 2,
   "metadata": {
    "collapsed": false
   },
   "outputs": [],
   "source": [
    "neighbour_words = []\n",
    "negation_terms = []\n",
    "temp_dict = {}\n",
    "for term in negation_list:\n",
    "    result = preprocess.find_negation(term, text)\n",
    "\n",
    "    if result:\n",
    "        negation_terms.append(term)\n",
    "        for item in result:\n",
    "            neighbour_words.append(item)\n",
    "\n",
    "\n",
    "#calculate_emoti_senti(tweet, pos_emoticon, neg_emoticon, pos, neg):\n",
    "count_positive, count_negative = create_sentiment.calculate_emoti_senti(filter_words,\n",
    "                                                                        count_positive,\n",
    "                                                                        count_negative)\n",
    "\n",
    "count_positive, count_negative = create_sentiment.calculate_emoji_senti(filter_words,\n",
    "                                                                       emojis,\n",
    "                                                                       count_positive,\n",
    "                                                                       count_negative)\n",
    "if count_positive == 0 and count_negative == 0:\n",
    "\n",
    "\n",
    "    word_dict, sum_senti = create_sentiment.create_senti_and_word(filter_words, \n",
    "                                                                    neighbour_words, \n",
    "                                                                    afinn_dict, \n",
    "                                                                    pos_set, \n",
    "                                                                    neg_set, \n",
    "                                                                    count_positive, \n",
    "                                                                    count_negative)\n",
    "    if word_dict:\n",
    "        for negation_term in negation_terms:\n",
    "            temp = [negation_term+\"_\"+word for word in word_dict]\n",
    "            for item in temp:\n",
    "                temp_dict[item] = item"
   ]
  },
  {
   "cell_type": "code",
   "execution_count": 3,
   "metadata": {
    "collapsed": false
   },
   "outputs": [
    {
     "name": "stdout",
     "output_type": "stream",
     "text": [
      "\n",
      "\n",
      "\n",
      "\n",
      "never_forgive\n",
      "-1\n",
      "\n",
      "\n",
      "\n",
      "\n",
      "not_like\n",
      "-1\n",
      "\n",
      "\n",
      "\n",
      "\n",
      "0\n",
      "\n",
      "\n",
      "\n",
      "\n",
      "n't_like\n",
      "-1\n",
      "\n",
      "\n",
      "\n",
      "\n",
      "-1\n",
      "\n",
      "\n",
      "\n",
      "\n",
      "1\n"
     ]
    }
   ],
   "source": [
    "from lga import LGA\n",
    "tweets = []\n",
    "tweet_2 = {'text' : \"i do not like you\"}\n",
    "tweet_1 = {'text' : 'i will never forgive you'}\n",
    "tweet_3 = {'text' : 'do not show off'}\n",
    "tweet_4 = {'text' : \"he might like you, but I don't like you\"}\n",
    "tweet_5 = {'text' : \"don't you think you are ugly?\"}\n",
    "tweet_6 = {'text' : \"I think they really like you, don't they\"}\n",
    "tweet_7 = {'text' : 'you smart? no you not'}\n",
    "tweets.append(tweet_1)\n",
    "tweets.append(tweet_2)\n",
    "tweets.append(tweet_3)\n",
    "tweets.append(tweet_4)\n",
    "tweets.append(tweet_5)\n",
    "tweets.append(tweet_6)\n",
    "db =1\n",
    "db_target = 1\n",
    "config = 1\n",
    "couch = 1\n",
    "lga = 1\n",
    "\n",
    "for tweet in tweets:\n",
    "    print(\"\\n\\n\\n\")\n",
    "    gen_set.gen_negation_train_set(pos_set, \n",
    "                        neg_set,\n",
    "                        afinn_dict,\n",
    "                        emojis,\n",
    "                        WORDS,\n",
    "                        tweet,\n",
    "                        db,\n",
    "                        db_target,\n",
    "                        config,\n",
    "                        couch,\n",
    "                        count_all,\n",
    "                        punctuation,\n",
    "                        stop,\n",
    "                        couchdb,\n",
    "                        lga,\n",
    "                        negation_list)"
   ]
  },
  {
   "cell_type": "code",
   "execution_count": 4,
   "metadata": {
    "collapsed": false
   },
   "outputs": [
    {
     "data": {
      "text/plain": [
       "{'hate'}"
      ]
     },
     "execution_count": 4,
     "metadata": {},
     "output_type": "execute_result"
    }
   ],
   "source": [
    "list_a = ['not', 'no', 'never', 'like', 'hate']\n",
    "list_set = set(list_a)\n",
    "list_set & neg_set"
   ]
  },
  {
   "cell_type": "code",
   "execution_count": 5,
   "metadata": {
    "collapsed": false
   },
   "outputs": [
    {
     "name": "stdout",
     "output_type": "stream",
     "text": [
      "['will', 'forgive']\n",
      "will never forgive never_will never_forgive\n",
      "['like']\n",
      "not like not_like\n",
      "['show']\n",
      "not show not_show\n",
      "['like']\n",
      "might like don't like n't_like\n",
      "['think']\n",
      "don't think ugly n't_think\n",
      "[]\n",
      "think really like don't\n"
     ]
    }
   ],
   "source": [
    "for tweet in tweets:\n",
    "    gen_set.gen_negation_set(\n",
    "                        emojis,\n",
    "                        WORDS,\n",
    "                        tweet,\n",
    "                        db,\n",
    "                        db_target,\n",
    "                        config,\n",
    "                        couch,\n",
    "                        count_all,\n",
    "                        punctuation,\n",
    "                        stop,\n",
    "                        couchdb,\n",
    "                        lga,\n",
    "                        negation_list)"
   ]
  },
  {
   "cell_type": "code",
   "execution_count": null,
   "metadata": {
    "collapsed": true
   },
   "outputs": [],
   "source": []
  }
 ],
 "metadata": {
  "kernelspec": {
   "display_name": "py36",
   "language": "python",
   "name": "py36"
  },
  "language_info": {
   "codemirror_mode": {
    "name": "ipython",
    "version": 3
   },
   "file_extension": ".py",
   "mimetype": "text/x-python",
   "name": "python",
   "nbconvert_exporter": "python",
   "pygments_lexer": "ipython3",
   "version": "3.5.2"
  }
 },
 "nbformat": 4,
 "nbformat_minor": 0
}
